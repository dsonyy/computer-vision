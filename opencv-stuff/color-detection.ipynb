{
 "metadata": {
  "language_info": {
   "codemirror_mode": {
    "name": "ipython",
    "version": 3
   },
   "file_extension": ".py",
   "mimetype": "text/x-python",
   "name": "python",
   "nbconvert_exporter": "python",
   "pygments_lexer": "ipython3",
   "version": "3.7.6-final"
  },
  "orig_nbformat": 2,
  "kernelspec": {
   "name": "Python 3.7.6 64-bit ('base': conda)",
   "display_name": "Python 3.7.6 64-bit ('base': conda)",
   "metadata": {
    "interpreter": {
     "hash": "46405c412ff8671a49582c63cb3bd626173f42ead09fd731edd7a07175cdc911"
    }
   }
  }
 },
 "nbformat": 4,
 "nbformat_minor": 2,
 "cells": [
  {
   "source": [
    "# Color Detection"
   ],
   "cell_type": "markdown",
   "metadata": {}
  },
  {
   "cell_type": "code",
   "execution_count": 1,
   "metadata": {},
   "outputs": [],
   "source": [
    "from IPython.display import display, clear_output\n",
    "import ipywidgets\n",
    "import numpy as np\n",
    "import cv2 as cv"
   ]
  },
  {
   "source": [
    "## Loaded image"
   ],
   "cell_type": "markdown",
   "metadata": {}
  },
  {
   "cell_type": "code",
   "execution_count": 53,
   "metadata": {
    "tags": []
   },
   "outputs": [
    {
     "output_type": "display_data",
     "data": {
      "text/plain": "Label(value='')",
      "application/vnd.jupyter.widget-view+json": {
       "version_major": 2,
       "version_minor": 0,
       "model_id": "703f396a15e54dfbbe0f89136a74eb56"
      }
     },
     "metadata": {}
    }
   ],
   "source": [
    "cv.namedWindow(\"Controls\")\n",
    "cv.resizeWindow(\"Controls\", 640, 350)\n",
    "cv.createTrackbar(\"Min H\", \"Controls\", 0, 200, lambda _: None)\n",
    "cv.createTrackbar(\"Max H\", \"Controls\", 0, 200, lambda _: None)\n",
    "cv.createTrackbar(\"Min S\", \"Controls\", 0, 255, lambda _: None)\n",
    "cv.createTrackbar(\"Max S\", \"Controls\", 0, 255, lambda _: None)\n",
    "cv.createTrackbar(\"Min V\", \"Controls\", 0, 255, lambda _: None)\n",
    "cv.createTrackbar(\"Max V\", \"Controls\", 0, 255, lambda _: None)\n",
    "\n",
    "img = cv.imread(\"test.jpg\")\n",
    "hsv = cv.cvtColor(img, cv.COLOR_BGR2HSV)\n",
    "\n",
    "color = ipywidgets.Label()\n",
    "display(color)\n",
    "\n",
    "while True:\n",
    "    h0 = cv.getTrackbarPos(\"Min H\", \"Controls\")\n",
    "    h1 = cv.getTrackbarPos(\"Max H\", \"Controls\")\n",
    "    s0 = cv.getTrackbarPos(\"Min S\", \"Controls\")\n",
    "    s1 = cv.getTrackbarPos(\"Max S\", \"Controls\")\n",
    "    v0 = cv.getTrackbarPos(\"Min V\", \"Controls\")\n",
    "    v1 = cv.getTrackbarPos(\"Max V\", \"Controls\")\n",
    "\n",
    "    mask = cv.inRange(hsv, (h0, s0, v0), (h1, s1, v1))\n",
    "    vision = cv.bitwise_and(img, img, mask=mask)\n",
    "\n",
    "    cv.imshow(\"Preview\", np.hstack((img, vision)))\n",
    "\n",
    "    k = cv.waitKey(1)\n",
    "    if k != -1:\n",
    "        break\n",
    "    color.value = f\"({h0} {s0} {v0}) ({h1} {s1} {v1})\"\n",
    "\n",
    "cv.destroyAllWindows()"
   ]
  },
  {
   "source": [
    "## Web Camera"
   ],
   "cell_type": "markdown",
   "metadata": {}
  },
  {
   "cell_type": "code",
   "execution_count": 2,
   "metadata": {},
   "outputs": [
    {
     "output_type": "display_data",
     "data": {
      "text/plain": "Label(value='')",
      "application/vnd.jupyter.widget-view+json": {
       "version_major": 2,
       "version_minor": 0,
       "model_id": "f6b24d4d3a0f43efa96a4d7f85298b3c"
      }
     },
     "metadata": {}
    }
   ],
   "source": [
    "cv.namedWindow(\"Controls\")\n",
    "cv.resizeWindow(\"Controls\", 640, 350)\n",
    "cv.createTrackbar(\"Min H\", \"Controls\", 0, 200, lambda _: None)\n",
    "cv.createTrackbar(\"Max H\", \"Controls\", 0, 200, lambda _: None)\n",
    "cv.createTrackbar(\"Min S\", \"Controls\", 0, 255, lambda _: None)\n",
    "cv.createTrackbar(\"Max S\", \"Controls\", 0, 255, lambda _: None)\n",
    "cv.createTrackbar(\"Min V\", \"Controls\", 0, 255, lambda _: None)\n",
    "cv.createTrackbar(\"Max V\", \"Controls\", 0, 255, lambda _: None)\n",
    "\n",
    "camera = cv.VideoCapture(0)\n",
    "color = ipywidgets.Label()\n",
    "display(color)\n",
    "\n",
    "while True:\n",
    "    code, img = camera.read()\n",
    "    if not code:\n",
    "        break\n",
    "\n",
    "    hsv = cv.cvtColor(img, cv.COLOR_BGR2HSV)\n",
    "\n",
    "    h0 = cv.getTrackbarPos(\"Min H\", \"Controls\")\n",
    "    h1 = cv.getTrackbarPos(\"Max H\", \"Controls\")\n",
    "    s0 = cv.getTrackbarPos(\"Min S\", \"Controls\")\n",
    "    s1 = cv.getTrackbarPos(\"Max S\", \"Controls\")\n",
    "    v0 = cv.getTrackbarPos(\"Min V\", \"Controls\")\n",
    "    v1 = cv.getTrackbarPos(\"Max V\", \"Controls\")\n",
    "\n",
    "    mask = cv.inRange(hsv, (h0, s0, v0), (h1, s1, v1))\n",
    "    vision = cv.bitwise_and(img, img, mask=mask)\n",
    "\n",
    "    cv.imshow(\"Preview\", np.hstack((img, vision)))\n",
    "\n",
    "    k = cv.waitKey(1)\n",
    "    if k != -1:\n",
    "        break\n",
    "    color.value = f\"({h0} {s0} {v0}) ({h1} {s1} {v1})\"\n",
    "\n",
    "camera.release()\n",
    "cv.destroyAllWindows()"
   ]
  },
  {
   "cell_type": "code",
   "execution_count": null,
   "metadata": {},
   "outputs": [],
   "source": []
  }
 ]
}