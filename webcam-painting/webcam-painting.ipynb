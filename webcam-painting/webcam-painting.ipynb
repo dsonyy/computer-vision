{
 "cells": [
  {
   "cell_type": "markdown",
   "metadata": {},
   "source": [
    "# Webcam Painting"
   ]
  },
  {
   "cell_type": "code",
   "execution_count": 1,
   "metadata": {},
   "outputs": [],
   "source": [
    "import ipywidgets\n",
    "import numpy as np\n",
    "import cv2 as cv\n",
    "from PIL import Image"
   ]
  },
  {
   "cell_type": "markdown",
   "metadata": {},
   "source": [
    "## Setting up a webcam"
   ]
  },
  {
   "cell_type": "code",
   "execution_count": 2,
   "metadata": {},
   "outputs": [],
   "source": [
    "from io import BytesIO\n",
    "import IPython.display\n",
    "import PIL.Image\n",
    "\n",
    "def camera_capture():\n",
    "    camera = cv.VideoCapture(0)\n",
    "    camera.set(3, 640)\n",
    "    camera.set(4, 480)\n",
    "    ret, image = camera.read()\n",
    "\n",
    "    if not ret:\n",
    "        return None\n",
    "\n",
    "    image = cv.cvtColor(image, cv.COLOR_BGR2RGB)\n",
    "    camera.release()\n",
    "    return image\n",
    "\n",
    "def camera_stream(process=lambda frame: frame):\n",
    "    camera = cv.VideoCapture(0)\n",
    "    camera.set(3, 1280)\n",
    "    camera.set(4, 1024)\n",
    "    try: \n",
    "        while True:\n",
    "            ret, frame = camera.read()\n",
    "            frame = cv.flip(frame, 1)\n",
    "            frame = process(frame)\n",
    "            frame = cv.cvtColor(frame, cv.COLOR_BGR2RGB)\n",
    "\n",
    "            stream = BytesIO()\n",
    "            PIL.Image.fromarray(frame).save(stream, format=\"jpeg\")\n",
    "            IPython.display.display(IPython.display.Image(data=stream.getvalue()))\n",
    "\n",
    "            IPython.display.clear_output(wait=True)\n",
    "    except KeyboardInterrupt:\n",
    "        camera.release()\n",
    "        print(\"Stream Stopped\")"
   ]
  },
  {
   "cell_type": "code",
   "execution_count": 3,
   "metadata": {},
   "outputs": [],
   "source": [
    "# Image.fromarray(camera_capture())"
   ]
  },
  {
   "cell_type": "markdown",
   "metadata": {},
   "source": [
    "## Finding HSV ranges for highlighters"
   ]
  },
  {
   "cell_type": "code",
   "execution_count": 4,
   "metadata": {},
   "outputs": [],
   "source": [
    "def find_hsv_ranges():\n",
    "    cv.namedWindow(\"Controls\")\n",
    "    cv.resizeWindow(\"Controls\", 640, 350)\n",
    "    cv.createTrackbar(\"Min H\", \"Controls\", 0, 200, lambda _: None)\n",
    "    cv.createTrackbar(\"Max H\", \"Controls\", 0, 200, lambda _: None)\n",
    "    cv.createTrackbar(\"Min S\", \"Controls\", 0, 255, lambda _: None)\n",
    "    cv.createTrackbar(\"Max S\", \"Controls\", 0, 255, lambda _: None)\n",
    "    cv.createTrackbar(\"Min V\", \"Controls\", 0, 255, lambda _: None)\n",
    "    cv.createTrackbar(\"Max V\", \"Controls\", 0, 255, lambda _: None)\n",
    "\n",
    "    img0 = cv.imread(\"colors0.png\")\n",
    "    img1 = cv.imread(\"colors1.png\")\n",
    "    img = np.vstack((img0, img1))\n",
    "    img = cv.GaussianBlur(img, (11, 11), 10)\n",
    "    hsv = cv.cvtColor(img, cv.COLOR_BGR2HSV)\n",
    "\n",
    "    color = ipywidgets.Label()\n",
    "    display(color)\n",
    "\n",
    "    while True:\n",
    "        h0 = cv.getTrackbarPos(\"Min H\", \"Controls\")\n",
    "        h1 = cv.getTrackbarPos(\"Max H\", \"Controls\")\n",
    "        s0 = cv.getTrackbarPos(\"Min S\", \"Controls\")\n",
    "        s1 = cv.getTrackbarPos(\"Max S\", \"Controls\")\n",
    "        v0 = cv.getTrackbarPos(\"Min V\", \"Controls\")\n",
    "        v1 = cv.getTrackbarPos(\"Max V\", \"Controls\")\n",
    "\n",
    "        mask = cv.inRange(hsv, (h0, s0, v0), (h1, s1, v1))\n",
    "        vision = cv.bitwise_and(img, img, mask=mask)\n",
    "\n",
    "        cv.imshow(\"Preview\", np.hstack((img, vision)))\n",
    "\n",
    "        k = cv.waitKey(1)\n",
    "        if k != -1:\n",
    "            break\n",
    "        color.value = f\"({h0}, {s0}, {v0}), ({h1}, {s1}, {v1})\"\n",
    "\n",
    "    cv.destroyAllWindows()"
   ]
  },
  {
   "cell_type": "code",
   "execution_count": 16,
   "metadata": {},
   "outputs": [],
   "source": [
    "# find_hsv_ranges()"
   ]
  },
  {
   "cell_type": "code",
   "execution_count": 6,
   "metadata": {},
   "outputs": [],
   "source": [
    "# orange = (1, 143, 141), (11, 255, 255)\n",
    "# yellow = (17, 143, 141), (36, 255, 255)\n",
    "# green = (61, 143, 141), (71, 255, 255)\n",
    "# magenta = (164, 143, 141), (174, 255, 255)"
   ]
  },
  {
   "cell_type": "code",
   "execution_count": 7,
   "metadata": {},
   "outputs": [],
   "source": [
    "orange = (0, 143, 100), (15, 255, 255)\n",
    "yellow = (36, 97, 75), (55, 255, 255)\n",
    "green = (55, 89, 107), (96, 255, 255)\n",
    "magenta = (156, 82, 108), (168, 255, 255)"
   ]
  },
  {
   "cell_type": "markdown",
   "metadata": {},
   "source": [
    "## Detecting colors of the highlighters"
   ]
  },
  {
   "cell_type": "code",
   "execution_count": 8,
   "metadata": {
    "tags": []
   },
   "outputs": [],
   "source": [
    "def get_masks(frame):\n",
    "    frame = cv.GaussianBlur(frame, (11, 11), 10)\n",
    "    hsv = cv.cvtColor(frame, cv.COLOR_BGR2HSV)\n",
    "\n",
    "    orange_mask = cv.inRange(hsv, orange[0], orange[1])\n",
    "    yellow_mask = cv.inRange(hsv, yellow[0], yellow[1])\n",
    "    green_mask = cv.inRange(hsv, green[0], green[1])\n",
    "    magenta_mask = cv.inRange(hsv, magenta[0], magenta[1])\n",
    "\n",
    "    return (orange_mask, yellow_mask, green_mask, magenta_mask)\n",
    "\n",
    "def display_masks(frame):\n",
    "    orange_mask, yellow_mask, green_mask, magenta_mask = get_masks(frame)\n",
    "    # mask = cv.bitwise_or(cv.bitwise_or(orange_mask, yellow_mask),\n",
    "    #                      cv.bitwise_or(green_mask, magenta_mask))\n",
    "    # vision = cv.bitwise_and(frame, frame, mask=mask)\n",
    "    orange_mask = np.repeat(orange_mask[:, :, np.newaxis], 3, axis=2)\n",
    "    yellow_mask = np.repeat(yellow_mask[:, :, np.newaxis], 3, axis=2)\n",
    "    green_mask = np.repeat(green_mask[:, :, np.newaxis], 3, axis=2)\n",
    "    magenta_mask = np.repeat(magenta_mask[:, :, np.newaxis], 3, axis=2)\n",
    "    return np.vstack((np.hstack((frame, yellow_mask)),\n",
    "                      np.hstack((green_mask, magenta_mask))))"
   ]
  },
  {
   "cell_type": "code",
   "execution_count": 9,
   "metadata": {
    "tags": []
   },
   "outputs": [],
   "source": [
    "# camera_stream(process=display_masks)"
   ]
  },
  {
   "cell_type": "code",
   "execution_count": 10,
   "metadata": {},
   "outputs": [],
   "source": [
    "orange_paint = (0, 127, 255)\n",
    "yellow_paint = (0, 255, 255)\n",
    "green_paint = (0, 255, 0)\n",
    "magenta_paint = (255, 0, 255)"
   ]
  },
  {
   "cell_type": "code",
   "execution_count": 11,
   "metadata": {},
   "outputs": [],
   "source": [
    "def get_boundings(frame):\n",
    "    masks = get_masks(frame)\n",
    "    colors = [orange_paint, yellow_paint, green_paint, magenta_paint]\n",
    "\n",
    "    boundings = set({})\n",
    "    for mask, color in zip(get_masks(frame), colors):\n",
    "        contours, _ = cv.findContours(mask, cv.RETR_EXTERNAL, cv.CHAIN_APPROX_NONE)\n",
    "        for contour in contours:\n",
    "            area = cv.contourArea(contour)\n",
    "            if area > 300:\n",
    "                # approx = cv.approxPolyDP(contour, cv.arcLength(contour, True) * 0.05, True)\n",
    "                # cv.drawContours(frame, [approx], -1, color, 3, cv.LINE_AA)\n",
    "                # cv.drawContours(frame, contour, -1, color, 3, cv.LINE_AA)\n",
    "                boundings.add((color, cv.boundingRect(contour)))\n",
    "    return boundings \n",
    "\n",
    "def display_boundings(frame):\n",
    "    boundings = get_boundings(frame)\n",
    "    for (color, rect) in boundings:\n",
    "        x, y, w, h = rect\n",
    "        cv.rectangle(frame, (x, y), (x + w, y + h), color, 2)\n",
    "    return frame"
   ]
  },
  {
   "cell_type": "code",
   "execution_count": 12,
   "metadata": {
    "tags": []
   },
   "outputs": [],
   "source": [
    "# camera_stream(process=display_boundings)"
   ]
  },
  {
   "cell_type": "code",
   "execution_count": 13,
   "metadata": {
    "tags": []
   },
   "outputs": [],
   "source": [
    "drawing = np.zeros((1024, 1280, 3), np.uint8)\n",
    "last_dots = {}\n",
    "\n",
    "def display_drawing(frame):\n",
    "    global drawing, last_dots\n",
    "    boundings = get_boundings(frame)\n",
    "    for (color, rect) in boundings:\n",
    "        x, y, w, h = rect\n",
    "        dot = (w // 2 + x, h // 2 + y)\n",
    "        if last_dots.get(color) is not None:\n",
    "            cv.line(drawing, last_dots[color], dot, color, 10, cv.LINE_AA)\n",
    "        else:\n",
    "            cv.line(drawing, dot, dot, color, 10, cv.LINE_AA)\n",
    "        last_dots[color] = dot\n",
    "\n",
    "    cond = drawing != 0\n",
    "    frame[cond] = drawing[cond]\n",
    "    return frame"
   ]
  },
  {
   "cell_type": "code",
   "execution_count": 14,
   "metadata": {
    "tags": []
   },
   "outputs": [
    {
     "output_type": "stream",
     "name": "stdout",
     "text": "Stream Stopped\n"
    }
   ],
   "source": [
    "camera_stream(process=display_drawing)"
   ]
  }
 ],
 "metadata": {
  "kernelspec": {
   "display_name": "Python 3",
   "language": "python",
   "name": "python3"
  },
  "language_info": {
   "codemirror_mode": {
    "name": "ipython",
    "version": 3
   },
   "file_extension": ".py",
   "mimetype": "text/x-python",
   "name": "python",
   "nbconvert_exporter": "python",
   "pygments_lexer": "ipython3",
   "version": "3.7.6-final"
  }
 },
 "nbformat": 4,
 "nbformat_minor": 2
}