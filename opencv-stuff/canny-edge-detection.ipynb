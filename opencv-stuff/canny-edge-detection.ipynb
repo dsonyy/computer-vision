{
 "metadata": {
  "language_info": {
   "codemirror_mode": {
    "name": "ipython",
    "version": 3
   },
   "file_extension": ".py",
   "mimetype": "text/x-python",
   "name": "python",
   "nbconvert_exporter": "python",
   "pygments_lexer": "ipython3",
   "version": "3.7.6-final"
  },
  "orig_nbformat": 2,
  "kernelspec": {
   "name": "Python 3.7.6 64-bit ('base': conda)",
   "display_name": "Python 3.7.6 64-bit ('base': conda)",
   "metadata": {
    "interpreter": {
     "hash": "46405c412ff8671a49582c63cb3bd626173f42ead09fd731edd7a07175cdc911"
    }
   }
  }
 },
 "nbformat": 4,
 "nbformat_minor": 2,
 "cells": [
  {
   "source": [
    "# Canny Edge detection"
   ],
   "cell_type": "markdown",
   "metadata": {}
  },
  {
   "cell_type": "code",
   "execution_count": 1,
   "metadata": {},
   "outputs": [],
   "source": [
    "import numpy as np\n",
    "import cv2 as cv"
   ]
  },
  {
   "cell_type": "code",
   "execution_count": 2,
   "metadata": {},
   "outputs": [],
   "source": [
    "cv.namedWindow(\"Controls\")\n",
    "cv.createTrackbar(\"Threshold 0\", \"Controls\", 0, 1000, lambda _: None)\n",
    "cv.createTrackbar(\"Threshold 1\", \"Controls\", 0, 1000, lambda _: None)\n",
    "cv.createTrackbar(\"L2 Gradient\", \"Controls\", 0, 1, lambda _: None)\n",
    "\n",
    "img = cv.imread(\"test.jpg\")\n",
    "hsv = cv.cvtColor(img, cv.COLOR_BGR2HSV)\n",
    "\n",
    "while True:\n",
    "    th0 = cv.getTrackbarPos(\"Threshold 0\", \"Controls\")\n",
    "    th1 = cv.getTrackbarPos(\"Threshold 1\", \"Controls\")\n",
    "    l2g = cv.getTrackbarPos(\"L2 Gradient\", \"Controls\")\n",
    "\n",
    "    canny = cv.Canny(img, th0, th1, L2gradient=l2g)\n",
    "    canny = np.stack((canny, canny, canny), axis=2)\n",
    "    cv.imshow(\"Preview\", np.hstack((img, canny)))\n",
    "\n",
    "    k = cv.waitKey(1)\n",
    "    if k != -1:\n",
    "        break\n",
    "\n",
    "cv.destroyAllWindows()"
   ]
  },
  {
   "cell_type": "code",
   "execution_count": null,
   "metadata": {},
   "outputs": [],
   "source": []
  }
 ]
}