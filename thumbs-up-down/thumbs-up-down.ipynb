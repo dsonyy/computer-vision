{
 "metadata": {
  "language_info": {
   "codemirror_mode": {
    "name": "ipython",
    "version": 3
   },
   "file_extension": ".py",
   "mimetype": "text/x-python",
   "name": "python",
   "nbconvert_exporter": "python",
   "pygments_lexer": "ipython3",
   "version": "3.7.6-final"
  },
  "orig_nbformat": 2,
  "kernelspec": {
   "name": "python3",
   "display_name": "Python 3"
  }
 },
 "nbformat": 4,
 "nbformat_minor": 2,
 "cells": [
  {
   "source": [
    "# Thumbs up/down"
   ],
   "cell_type": "markdown",
   "metadata": {}
  },
  {
   "source": [
    "## Camera"
   ],
   "cell_type": "markdown",
   "metadata": {}
  },
  {
   "cell_type": "code",
   "execution_count": 43,
   "metadata": {},
   "outputs": [],
   "source": [
    "import cv2\n",
    "from io import BytesIO\n",
    "import IPython.display\n",
    "import PIL.Image\n",
    "import numpy as np\n",
    "\n",
    "# To reduce output size while working with vscode\n",
    "%config InlineBackend.figure_format = 'png'"
   ]
  },
  {
   "cell_type": "code",
   "execution_count": 44,
   "metadata": {},
   "outputs": [],
   "source": [
    "def camera_init():\n",
    "    camera = cv2.VideoCapture(0)\n",
    "    camera.set(3, 640)\n",
    "    camera.set(4, 480)\n",
    "    return camera\n",
    "\n",
    "def camera_clenup(camera):\n",
    "    camera.release()\n",
    "\n",
    "def camera_capture(camera=None):\n",
    "    if not camera:\n",
    "        camera_temp = camera_init()\n",
    "        ret, image = camera_temp.read()\n",
    "    else:\n",
    "        ret, image = camera.read()\n",
    "    if not ret:\n",
    "        return None\n",
    "    image = cv2.cvtColor(image, cv2.COLOR_BGR2RGB)\n",
    "    if not camera:\n",
    "        camera_clenup(camera_temp)\n",
    "    return image\n",
    "\n",
    "def camera_stream_widget(camera_widget):\n",
    "    global running\n",
    "    camera = camera_init()\n",
    "    try: \n",
    "        while running:\n",
    "            frame = camera_capture(camera)\n",
    "            stream = BytesIO()\n",
    "            PIL.Image.fromarray(np.uint8(frame)).save(stream, format=\"jpeg\")\n",
    "            camera_widget.value = stream.getvalue()\n",
    "    except KeyboardInterrupt:\n",
    "        pass\n",
    "    camera_clenup(camera)\n",
    "    print(\"Stream Stopped\")"
   ]
  },
  {
   "source": [
    "## Model"
   ],
   "cell_type": "markdown",
   "metadata": {}
  },
  {
   "cell_type": "code",
   "execution_count": 61,
   "metadata": {
    "tags": []
   },
   "outputs": [],
   "source": [
    "import torch\n",
    "import torchvision\n",
    "\n",
    "TRAIN_THUMBS_UP = os.path.normpath(\"train/up/\")\n",
    "TRAIN_THUMBS_DOWN = os.path.normpath(\"train/down/\")\n",
    "\n",
    "model = None\n",
    "device = torch.device(\"cuda:0\" if torch.cuda.is_available() else \"cpu\")\n",
    "\n",
    "def model_create(b=None):\n",
    "    global device\n",
    "\n",
    "    transforms = torchvision.transforms.Compose([\n",
    "        torchvision.transforms.ColorJitter(0.2, 0.2, 0.2, 0.2),\n",
    "        torchvision.transforms.Resize((224, 224)),\n",
    "        torchvision.transforms.ToTensor(),\n",
    "        torchvision.transforms.Normalize([0.485, 0.456, 0.406], [0.229, 0.224, 0.225])\n",
    "    ])\n",
    "\n",
    "    normalize = torchvision.transforms.Normalize(\n",
    "        mean=[0.485, 0.456, 0.406],\n",
    "        std=[0.229, 0.224, 0.225])\n",
    "\n",
    "    global model\n",
    "    model = torchvision.models.resnet18(pretrained=True)\n",
    "    model.fc = torch.nn.Linear(512, 1)\n",
    "\n",
    "    model = model.to(device)\n",
    "\n",
    "def model_predict(b=None, frame=None):\n",
    "    if frame is None: \n",
    "        return 0.5\n",
    "    frame = torchvision.transforms.functional.to_tensor(PIL.Image.fromarray(frame)).to(device)\n",
    "    frame = frame[None, ...]\n",
    "    return torch.nn.functional.sigmoid(model(frame)).detach().cpu().numpy().flatten()[0]\n",
    "\n",
    "def model_retrain(b=None):\n",
    "    global model\n",
    "\n",
    "\n",
    "model_create()"
   ]
  },
  {
   "source": [
    "## Live execution"
   ],
   "cell_type": "markdown",
   "metadata": {}
  },
  {
   "cell_type": "code",
   "execution_count": 62,
   "metadata": {
    "tags": []
   },
   "outputs": [
    {
     "output_type": "display_data",
     "data": {
      "text/plain": "VBox(children=(Image(value=b'', width='600'), Label(value='1. Collecting testing data:'), Button(button_style=…",
      "application/vnd.jupyter.widget-view+json": {
       "version_major": 2,
       "version_minor": 0,
       "model_id": "ea76cbd4a67d48cd8fb5ebb315226908"
      }
     },
     "metadata": {}
    }
   ],
   "source": [
    "import threading\n",
    "from ipywidgets.widgets import Button, Label, FloatSlider, FloatProgress, FloatText, Image\n",
    "from ipywidgets.widgets import Layout, HBox, VBox\n",
    "from IPython.display import display\n",
    "from time import sleep\n",
    "\n",
    "def saved_thumbs_up():\n",
    "    return len(os.listdir(\"train/up\"))\n",
    "\n",
    "def saved_thumbs_down():\n",
    "    return len(os.listdir(\"train/down\"))\n",
    "\n",
    "def save_thumbs_up(b):\n",
    "    count = saved_thumbs_up()\n",
    "    b.description = f\"Add frame to thumbs up train dataset ({count + 1})\"\n",
    "    with open(f\"train/up/{count}.png\", \"wb\") as f:\n",
    "        f.write(camera_widget.value)\n",
    "\n",
    "def save_thumbs_down(b):\n",
    "    count = saved_thumbs_down()\n",
    "    b.description = f\"Add frame to thumbs down train dataset ({count + 1})\"\n",
    "    with open(f\"train/down/{count}.png\", \"wb\") as f:\n",
    "        f.write(camera_widget.value)\n",
    "\n",
    "running = True\n",
    "\n",
    "camera_widget = Image(width=600)\n",
    "b_thumbs_up = Button(\n",
    "    description=f\"Add frame to thumbs up train dataset ({saved_thumbs_up()})\", \n",
    "    icon=\"fa-thumbs-up\", \n",
    "    button_style=\"success\", \n",
    "    layout=Layout(width=\"300px\"))\n",
    "b_thumbs_up.on_click(save_thumbs_up)\n",
    "b_thumbs_down = Button(\n",
    "    description=f\"Add frame to thumbs down train dataset ({saved_thumbs_down()})\", \n",
    "    icon=\"fa-thumbs-down\", \n",
    "    button_style=\"danger\", \n",
    "    layout=Layout(width=\"300px\"))\n",
    "b_thumbs_down.on_click(save_thumbs_down)\n",
    "b_retrain = Button(\n",
    "    description=f\"Retrain the model with the newest dataset\", \n",
    "    icon=\"fa-refresh\",\n",
    "    layout=Layout(width=\"300px\"))\n",
    "train_progress = FloatProgress(value=100, description=\"Progress:\")\n",
    "loss = FloatText(value=0, description=\"Loss:\", disabled=True)\n",
    "accuracy = FloatText(value=0, description=\"Accuracy:\", disabled=True)\n",
    "slider_down = FloatSlider(value=50, description=\"Down:\", disabled=True)\n",
    "slider_up = FloatSlider(value=50, description=\"Up:\", disabled=True)\n",
    "\n",
    "all_widgets = VBox((\n",
    "    camera_widget, \n",
    "    Label(value=\"1. Collecting testing data:\"),\n",
    "    b_thumbs_up,\n",
    "    b_thumbs_down,\n",
    "    Label(value=\"2. Training the model:\"),\n",
    "    b_retrain,\n",
    "    train_progress,\n",
    "    loss,\n",
    "    accuracy,\n",
    "    Label(value=\"3. Making predictions:\"),\n",
    "    slider_down,\n",
    "    slider_up,\n",
    "))\n",
    "\n",
    "def live_execution():\n",
    "    global camera_widget\n",
    "    IPython.display.display(all_widgets)\n",
    "\n",
    "    global running\n",
    "    camera = camera_init()\n",
    "    try: \n",
    "        while running:\n",
    "            frame = camera_capture(camera)\n",
    "            stream = BytesIO()\n",
    "            PIL.Image.fromarray(np.uint8(frame)).save(stream, format=\"jpeg\")\n",
    "            camera_widget.value = stream.getvalue()\n",
    "            predictions = model_predict(frame=frame)\n",
    "            slider_down.value = predictions * 100\n",
    "            slider_up.value = 100 - predictions * 100\n",
    "    except KeyboardInterrupt:\n",
    "        pass\n",
    "    print(\"Stream Stopped\")\n",
    "    camera_clenup(camera)\n",
    "\n",
    "thread = threading.Thread(target=live_execution)\n",
    "thread.start()"
   ]
  },
  {
   "cell_type": "code",
   "execution_count": 63,
   "metadata": {
    "tags": []
   },
   "outputs": [],
   "source": [
    "running = False"
   ]
  },
  {
   "cell_type": "code",
   "execution_count": null,
   "metadata": {},
   "outputs": [],
   "source": []
  }
 ]
}