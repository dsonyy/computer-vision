{
 "metadata": {
  "language_info": {
   "codemirror_mode": {
    "name": "ipython",
    "version": 3
   },
   "file_extension": ".py",
   "mimetype": "text/x-python",
   "name": "python",
   "nbconvert_exporter": "python",
   "pygments_lexer": "ipython3",
   "version": "3.7.6-final"
  },
  "orig_nbformat": 2,
  "kernelspec": {
   "name": "python_defaultSpec_1600897777340",
   "display_name": "Python 3.7.6 64-bit ('base': conda)"
  }
 },
 "nbformat": 4,
 "nbformat_minor": 2,
 "cells": [
  {
   "source": [
    "# HSV Palette"
   ],
   "cell_type": "markdown",
   "metadata": {}
  },
  {
   "cell_type": "code",
   "execution_count": 2,
   "metadata": {},
   "outputs": [],
   "source": [
    "import numpy as np\n",
    "import cv2 as cv\n",
    "\n",
    "def nothing(x):\n",
    "    pass\n",
    "\n",
    "img = np.zeros((300,512,3), np.uint8)\n",
    "img = cv.cvtColor(img, cv.COLOR_BGR2HSV)\n",
    "cv.namedWindow('image')\n",
    "\n",
    "cv.createTrackbar('H', 'image', 0, 179, nothing)\n",
    "cv.createTrackbar('S', 'image', 0, 255, nothing)\n",
    "cv.createTrackbar('V', 'image', 0, 255, nothing)\n",
    "\n",
    "while True:\n",
    "    cv.imshow('image', img)\n",
    "    k = cv.waitKey(1)\n",
    "    if k != -1:\n",
    "        break\n",
    "\n",
    "    h = cv.getTrackbarPos('H', 'image')\n",
    "    s = cv.getTrackbarPos('S', 'image')\n",
    "    v = cv.getTrackbarPos('V', 'image')\n",
    "    \n",
    "    img[:] = [h, s, v]\n",
    "    img = cv.cvtColor(img, cv.COLOR_HSV2BGR)\n",
    "\n",
    "cv.destroyAllWindows()"
   ]
  }
 ]
}