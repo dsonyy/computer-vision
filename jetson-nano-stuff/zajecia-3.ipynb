{
 "cells": [
  {
   "source": [
    "## Controlling webcam"
   ],
   "cell_type": "markdown",
   "metadata": {}
  },
  {
   "cell_type": "code",
   "execution_count": 1,
   "metadata": {},
   "outputs": [],
   "source": [
    "import numpy as np\n",
    "import cv2 as cv\n",
    "from PIL import Image\n",
    "import ipywidgets\n",
    "from IPython.display import clear_output"
   ]
  },
  {
   "cell_type": "code",
   "execution_count": 2,
   "metadata": {},
   "outputs": [],
   "source": [
    "from io import BytesIO\n",
    "import IPython.display\n",
    "import PIL.Image\n",
    "\n",
    "def get_source(id):\n",
    "    return (\n",
    "        \"nvarguscamerasrc sensor-id=%d sensor-mode=%d ! \"\n",
    "        \"video/x-raw(memory:NVMM), \"\n",
    "        \"width=(int)%d, height=(int)%d, \"\n",
    "        \"format=(string)NV12, framerate=(fraction)%d/1 ! \"\n",
    "        \"nvvidconv flip-method=%d ! \"\n",
    "        \"video/x-raw, width=(int)%d, height=(int)%d, format=(string)BGRx ! \"\n",
    "        \"videoconvert ! \"\n",
    "        \"video/x-raw, format=(string)BGR ! appsink\"\n",
    "        % (\n",
    "            id, # camera id\n",
    "            3, # mode\n",
    "            640, # width\n",
    "            480, # height\n",
    "            10, # frame rate\n",
    "            0, # flip method\n",
    "            640, # display width\n",
    "            480, # display height\n",
    "        )\n",
    "    )\n",
    "\n",
    "def camera_capture(id):\n",
    "    camera = cv.VideoCapture(get_source(id))\n",
    "    camera.set(3, 640)\n",
    "    camera.set(4, 480)\n",
    "    ret, image = camera.read()\n",
    "\n",
    "    if not ret:\n",
    "        return None\n",
    "\n",
    "    image = cv.cvtColor(image, cv.COLOR_BGR2GRAY)\n",
    "    camera.release()\n",
    "    return image\n",
    "\n",
    "def camera_stream(id):\n",
    "    camera = cv.VideoCapture(get_source(id))\n",
    "    camera.set(3, 640)\n",
    "    camera.set(4, 480)\n",
    "    try: \n",
    "        while True:\n",
    "            ret, frame = camera.read()\n",
    "            frame = cv.cvtColor(frame, cv.COLOR_BGR2RGB)\n",
    "            \n",
    "            stream = BytesIO()\n",
    "            PIL.Image.fromarray(frame).save(stream, format=\"jpeg\")\n",
    "            IPython.display.display(IPython.display.Image(data=stream.getvalue()))\n",
    "\n",
    "            IPython.display.clear_output(wait=True)\n",
    "    except KeyboardInterrupt:\n",
    "        camera.release()\n",
    "        print(\"Stream Stopped\")\n",
    "        \n",
    "def camera_stream2():\n",
    "    camera0 = cv.VideoCapture(get_source(0))\n",
    "    camera0.set(3, 640)\n",
    "    camera0.set(4, 480)\n",
    "    \n",
    "    camera1 = cv.VideoCapture(get_source(1))\n",
    "    camera1.set(3, 640)\n",
    "    camera1.set(4, 480)\n",
    "    try: \n",
    "        while True:\n",
    "            ret1, frame1 = camera1.read()\n",
    "            ret0, frame0 = camera0.read()\n",
    "            frame0 = cv.cvtColor(frame0, cv.COLOR_BGR2GRAY)\n",
    "            frame1 = cv.cvtColor(frame1, cv.COLOR_BGR2GRAY)\n",
    "            \n",
    "            frame = np.hstack((frame0, frame1))\n",
    "            \n",
    "            stream = BytesIO()\n",
    "            PIL.Image.fromarray(frame).save(stream, format=\"jpeg\")\n",
    "    \n",
    "            IPython.display.display(IPython.display.Image(data=stream.getvalue()))\n",
    "            IPython.display.clear_output(wait=True)\n",
    "    except KeyboardInterrupt:\n",
    "        camera0.release()\n",
    "        camera1.release()\n",
    "        print(\"Stream Stopped\")"
   ]
  },
  {
   "cell_type": "code",
   "execution_count": 10,
   "metadata": {
    "scrolled": false
   },
   "outputs": [
    {
     "name": "stdout",
     "output_type": "stream",
     "text": [
      "Stream Stopped\n"
     ]
    }
   ],
   "source": [
    "camera_stream2()"
   ]
  },
  {
   "cell_type": "markdown",
   "metadata": {},
   "source": [
    "## Depth Map"
   ]
  },
  {
   "cell_type": "code",
   "execution_count": 3,
   "metadata": {},
   "outputs": [],
   "source": [
    "ID_LEFT = 0\n",
    "ID_RIGHT = 1\n",
    "\n",
    "left, right = camera_capture(ID_LEFT), camera_capture(ID_RIGHT)"
   ]
  }
 ],
 "metadata": {
  "kernelspec": {
   "display_name": "Python 3",
   "language": "python",
   "name": "python3"
  },
  "language_info": {
   "codemirror_mode": {
    "name": "ipython",
    "version": 3
   },
   "file_extension": ".py",
   "mimetype": "text/x-python",
   "name": "python",
   "nbconvert_exporter": "python",
   "pygments_lexer": "ipython3",
   "version": "3.6.9"
  }
 },
 "nbformat": 4,
 "nbformat_minor": 4
}