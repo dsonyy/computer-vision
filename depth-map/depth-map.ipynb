{
 "cells": [
  {
   "source": [
    "## Controlling webcam"
   ],
   "cell_type": "markdown",
   "metadata": {}
  },
  {
   "cell_type": "code",
   "execution_count": null,
   "metadata": {},
   "outputs": [],
   "source": [
    "import numpy as np\n",
    "import cv2 as cv\n",
    "from PIL import Image\n",
    "import ipywidgets\n",
    "from IPython.display import clear_output"
   ]
  },
  {
   "cell_type": "code",
   "execution_count": null,
   "metadata": {},
   "outputs": [],
   "source": [
    "from io import BytesIO\n",
    "import IPython.display\n",
    "import PIL.Image\n",
    "\n",
    "SOURCE = \"usb\" # usb, csi\n",
    "\n",
    "def get_source(id, source=SOURCE):\n",
    "    if SOURCE == \"usb\":\n",
    "        return id\n",
    "    elif SOURCE == \"csi\":\n",
    "        return (\n",
    "            \"nvarguscamerasrc sensor-id=%d sensor-mode=%d ! \"\n",
    "            \"video/x-raw(memory:NVMM), \"\n",
    "            \"width=(int)%d, height=(int)%d, \"\n",
    "            \"format=(string)NV12, framerate=(fraction)%d/1 ! \"\n",
    "            \"nvvidconv flip-method=%d ! \"\n",
    "            \"video/x-raw, width=(int)%d, height=(int)%d, format=(string)BGRx ! \"\n",
    "            \"videoconvert ! \"\n",
    "            \"video/x-raw, format=(string)BGR ! appsink\"\n",
    "            % (\n",
    "                id, # camera id\n",
    "                3, # mode\n",
    "                640, # width\n",
    "                480, # height\n",
    "                10, # frame rate\n",
    "                0, # flip method\n",
    "                640, # display width\n",
    "                480, # display height\n",
    "            )\n",
    "        )\n",
    "    else:\n",
    "        raise Exception(\"Unknown camera source.\")\n",
    "\n",
    "def camera_capture(id):\n",
    "    camera = cv.VideoCapture(get_source(id))\n",
    "    camera.set(3, 1280)\n",
    "    camera.set(4, 1024)\n",
    "    ret, image = camera.read()\n",
    "\n",
    "    if not ret:\n",
    "        return None\n",
    "\n",
    "    image = cv.cvtColor(image, cv.COLOR_BGR2GRAY)\n",
    "    camera.release()\n",
    "    return image\n",
    "\n",
    "def camera_stream(id):\n",
    "    camera = cv.VideoCapture(get_source(id))\n",
    "    camera.set(3, 1280)\n",
    "    camera.set(4, 1024)\n",
    "    try: \n",
    "        while True:\n",
    "            ret, frame = camera.read()\n",
    "            frame = cv.cvtColor(frame, cv.COLOR_BGR2GRAY)\n",
    "\n",
    "            frame = cv.rotate(frame, cv.ROTATE_90_COUNTERCLOCKWISE)\n",
    "\n",
    "            stream = BytesIO()\n",
    "            PIL.Image.fromarray(frame).save(stream, format=\"jpeg\")\n",
    "            IPython.display.display(IPython.display.Image(data=stream.getvalue()))\n",
    "\n",
    "            IPython.display.clear_output(wait=True)\n",
    "    except KeyboardInterrupt:\n",
    "        camera.release()\n",
    "        print(\"Stream Stopped\")\n",
    "        \n",
    "def camera_stream2():\n",
    "    camera0 = cv.VideoCapture(get_source(0))\n",
    "    camera0.set(3, 640)\n",
    "    camera0.set(4, 480)\n",
    "    \n",
    "    camera1 = cv.VideoCapture(get_source(1))\n",
    "    camera1.set(3, 640)\n",
    "    camera1.set(4, 480)\n",
    "    try: \n",
    "        while True:\n",
    "            ret1, frame1 = camera1.read()\n",
    "            ret0, frame0 = camera0.read()\n",
    "            frame0 = cv.cvtColor(frame0, cv.COLOR_BGR2GRAY)\n",
    "            frame1 = cv.cvtColor(frame1, cv.COLOR_BGR2GRAY)\n",
    "            \n",
    "            frame = np.hstack((frame0, frame1))\n",
    "            \n",
    "            frame = cv.flip(frame, 1)\n",
    "\n",
    "            stream = BytesIO()\n",
    "            PIL.Image.fromarray(frame).save(stream, format=\"jpeg\")\n",
    "    \n",
    "            IPython.display.display(IPython.display.Image(data=stream.getvalue()))\n",
    "            IPython.display.clear_output(wait=True)\n",
    "    except KeyboardInterrupt:\n",
    "        camera0.release()\n",
    "        camera1.release()\n",
    "        print(\"Stream Stopped\")"
   ]
  },
  {
   "source": [
    "## Calibration"
   ],
   "cell_type": "markdown",
   "metadata": {}
  },
  {
   "source": [
    "### Collecting images"
   ],
   "cell_type": "markdown",
   "metadata": {}
  },
  {
   "cell_type": "code",
   "execution_count": null,
   "metadata": {},
   "outputs": [],
   "source": [
    "import os\n",
    "\n",
    "chess = cv.rotate(camera_capture(0), cv.ROTATE_90_COUNTERCLOCKWISE)\n",
    "count = len(os.listdir(\"calibration\"))\n",
    "Image.fromarray(chess).save(os.path.join(\"calibration\", str(count) + \".jpg\"))\n",
    "display(Image.fromarray(chess))"
   ]
  },
  {
   "source": [
    "### Loading images"
   ],
   "cell_type": "markdown",
   "metadata": {}
  },
  {
   "cell_type": "code",
   "execution_count": null,
   "metadata": {
    "tags": []
   },
   "outputs": [],
   "source": [
    "images = []\n",
    "for f in os.listdir(\"calibration\"):\n",
    "    image = cv.imread(os.path.join(\"calibration\", f))\n",
    "    image = cv.cvtColor(image, cv.COLOR_BGR2GRAY)\n",
    "    images.append(image)\n",
    "\n",
    "print(\"Images loaded:\", len(images))"
   ]
  },
  {
   "source": [
    "### Finding chessboard corners"
   ],
   "cell_type": "markdown",
   "metadata": {}
  },
  {
   "cell_type": "code",
   "execution_count": null,
   "metadata": {
    "tags": []
   },
   "outputs": [],
   "source": [
    "obj_points = []\n",
    "img_points = []\n",
    "\n",
    "for idx, image in enumerate(images):\n",
    "    print(\"Processing image\", idx, end=\": \")\n",
    "    ret, corners = cv.findChessboardCorners(image, (7, 7), None)\n",
    "\n",
    "    image = cv.drawChessboardCorners(image, (7, 7), corners, ret)\n",
    "    Image.fromarray(image).save(os.path.join(\"calibration-corners\", str(idx) + \".jpg\"))\n",
    "\n",
    "    if not ret:\n",
    "        print(\"ERROR\")\n",
    "        continue\n",
    "    \n",
    "    obj = np.zeros((7 * 7, 3), np.float32)\n",
    "    obj[:, :2] = np.mgrid[0:7, 0:7].T.reshape(-1, 2)\n",
    "    obj_points.append(obj)\n",
    "\n",
    "    img_points.append(corners)\n",
    "\n",
    "    print(\"OK\")"
   ]
  },
  {
   "source": [
    "### Calculating distortions"
   ],
   "cell_type": "markdown",
   "metadata": {}
  },
  {
   "cell_type": "code",
   "execution_count": null,
   "metadata": {},
   "outputs": [],
   "source": [
    "ret, matrix, distortion_coeff, rotation_vec, translation_vec = cv.calibrateCamera(obj_points, img_points, (1024, 1280), None, None)\n",
    "new_camera_matrix, roi = cv.getOptimalNewCameraMatrix(matrix, distortion_coeff, (1024, 1280), 1, (1024, 1280))"
   ]
  },
  {
   "cell_type": "code",
   "execution_count": null,
   "metadata": {},
   "outputs": [],
   "source": [
    "for idx, image in enumerate(images):\n",
    "    image_undist = cv.undistort(image, matrix, distortion_coeff, None, new_camera_matrix)\n",
    "    Image.fromarray(image_undist).save(os.path.join(\"calibration-undistorted\", str(idx) + \".jpg\"))\n",
    "\n",
    "    x, y, w, h = roi\n",
    "    image_undist_roi = image_undist[y:y + h, x:x + w]\n",
    "    Image.fromarray(image_undist_roi).save(os.path.join(\"calibration-undistorted-roi\", str(idx) + \".jpg\"))"
   ]
  },
  {
   "source": [
    "### Calculating re-projection error"
   ],
   "cell_type": "markdown",
   "metadata": {}
  },
  {
   "cell_type": "code",
   "execution_count": null,
   "metadata": {
    "tags": []
   },
   "outputs": [],
   "source": [
    "mean_error = 0\n",
    "for i in range(len(obj_points)):\n",
    "    img_points2, _ = cv.projectPoints(obj_points[i], rotation_vec[i], translation_vec[i], matrix, distortion_coeff)\n",
    "    mean_error += cv.norm(img_points[i], img_points2, cv.NORM_L2) / len(img_points2)\n",
    "\n",
    "print(\"Total error:\", mean_error / len(obj_points))"
   ]
  },
  {
   "source": [
    "### Saving coefficients"
   ],
   "cell_type": "markdown",
   "metadata": {}
  },
  {
   "cell_type": "code",
   "execution_count": null,
   "metadata": {
    "tags": []
   },
   "outputs": [],
   "source": [
    "np.savez(\"logitech-500.npz\", \n",
    "    matrix=matrix,\n",
    "    distortion_coeff=distortion_coeff,\n",
    "    rotation_vec=rotation_vec,\n",
    "    translation_vec=translation_vec,\n",
    "    new_camera_matrix=new_camera_matrix,\n",
    "    roi=roi)\n",
    "\n",
    "coefficients = dict(np.load(\"logitech-500.npz\"))"
   ]
  },
  {
   "source": [
    "## Pose Estimation"
   ],
   "cell_type": "markdown",
   "metadata": {}
  },
  {
   "cell_type": "code",
   "execution_count": null,
   "metadata": {},
   "outputs": [],
   "source": [
    "coefficients = dict(np.load(\"logitech-500.npz\"))\n",
    "matrix, distortion_coeff = coefficients[\"matrix\"], coefficients[\"distortion_coeff\"]"
   ]
  },
  {
   "cell_type": "code",
   "execution_count": null,
   "metadata": {},
   "outputs": [],
   "source": [
    "def draw(img, corners, imgpts):\n",
    "    corner = tuple(corners[0].ravel())\n",
    "    img = cv.line(img, corner, tuple(imgpts[0].ravel()), (255,0,0), 5)\n",
    "    img = cv.line(img, corner, tuple(imgpts[1].ravel()), (0,255,0), 5)\n",
    "    img = cv.line(img, corner, tuple(imgpts[2].ravel()), (0,0,255), 5)\n",
    "    return img"
   ]
  },
  {
   "cell_type": "code",
   "execution_count": null,
   "metadata": {
    "tags": []
   },
   "outputs": [],
   "source": [
    "camera = cv.VideoCapture(get_source(0))\n",
    "camera.set(3, 640)\n",
    "camera.set(4, 480)\n",
    "try: \n",
    "    while True:\n",
    "        obj_points = []\n",
    "        img_points = []\n",
    "\n",
    "        ret, frame = camera.read()\n",
    "        frame = cv.cvtColor(frame, cv.COLOR_BGR2GRAY)\n",
    "        frame = cv.rotate(frame, cv.ROTATE_90_COUNTERCLOCKWISE)\n",
    "\n",
    "        ret, corners = cv.findChessboardCorners(frame, (7,7), None)\n",
    "        if ret:\n",
    "            obj = np.zeros((7 * 7, 3), np.float32)\n",
    "            obj[:, :2] = np.mgrid[0:7, 0:7].T.reshape(-1, 2)\n",
    "            obj_points.append(obj)\n",
    "            ret, rvecs, tvecs = cv.solvePnP(obj, corners, matrix, distortion_coeff)\n",
    "\n",
    "            axis = np.float32([[3,0,0], [0,3,0], [0,0,-3]]).reshape(-1,3)\n",
    "            img_points, jac = cv.projectPoints(axis, rvecs, tvecs, matrix, distortion_coeff)\n",
    "\n",
    "            frame = cv.cvtColor(frame, cv.COLOR_GRAY2RGB)\n",
    "            frame = draw(frame, corners, img_points)\n",
    "\n",
    "        stream = BytesIO()\n",
    "        PIL.Image.fromarray(frame).save(stream, format=\"jpeg\")\n",
    "        IPython.display.display(IPython.display.Image(data=stream.getvalue()))\n",
    "\n",
    "        IPython.display.clear_output(wait=True)\n",
    "except KeyboardInterrupt:\n",
    "    camera.release()\n",
    "    print(\"Stream Stopped\")"
   ]
  },
  {
   "source": [
    "## Depth map"
   ],
   "cell_type": "markdown",
   "metadata": {}
  },
  {
   "cell_type": "code",
   "execution_count": null,
   "metadata": {},
   "outputs": [],
   "source": [
    "import matplotlib.pyplot as plt"
   ]
  },
  {
   "cell_type": "code",
   "execution_count": null,
   "metadata": {},
   "outputs": [],
   "source": [
    "ID_LEFT = 0\n",
    "ID_RIGHT = 1\n",
    "\n",
    "# left, right = camera_capture(ID_LEFT), camera_capture(ID_RIGHT)\n",
    "left, right = cv.imread(\"left.jpg\"), cv.imread(\"right.jpg\")\n",
    "left, right = cv.cvtColor(left, cv.COLOR_BGR2GRAY), cv.cvtColor(right, cv.COLOR_BGR2GRAY)\n",
    "\n",
    "stereo = cv.StereoBM_create(numDisparities=16, blockSize=5)\n",
    "disparity = stereo.compute(left, right)\n",
    "\n",
    "plt.subplots(figsize=(20, 20))\n",
    "plt.imshow(disparity)"
   ]
  },
  {
   "cell_type": "code",
   "execution_count": null,
   "metadata": {},
   "outputs": [],
   "source": [
    "left = cv.rotate(camera_capture(0), cv.ROTATE_90_COUNTERCLOCKWISE)\n",
    "Image.fromarray(left).save(\"left.jpg\")\n",
    "display(Image.fromarray(left))"
   ]
  },
  {
   "cell_type": "code",
   "execution_count": null,
   "metadata": {},
   "outputs": [],
   "source": [
    "right = cv.rotate(camera_capture(0), cv.ROTATE_90_COUNTERCLOCKWISE)\n",
    "Image.fromarray(right).save(\"right.jpg\")\n",
    "display(Image.fromarray(right))"
   ]
  },
  {
   "cell_type": "code",
   "execution_count": null,
   "metadata": {},
   "outputs": [],
   "source": [
    "coefficients = dict(np.load(\"logitech-500.npz\"))\n",
    "matrix, distortion_coeff, new_camera_matrix = coefficients[\"matrix\"], coefficients[\"distortion_coeff\"], coefficients[\"new_camera_matrix\"]"
   ]
  },
  {
   "cell_type": "code",
   "execution_count": null,
   "metadata": {},
   "outputs": [],
   "source": [
    "left_undist = cv.undistort(left, matrix, distortion_coeff, None, new_camera_matrix)\n",
    "\n",
    "x, y, w, h = roi\n",
    "left_undist = left_undist[y:y + h, x:x + w]\n",
    "\n",
    "display(Image.fromarray(left_undist))"
   ]
  },
  {
   "cell_type": "code",
   "execution_count": null,
   "metadata": {},
   "outputs": [],
   "source": [
    "right_undist = cv.undistort(right, matrix, distortion_coeff, None, new_camera_matrix)\n",
    "\n",
    "x, y, w, h = roi\n",
    "right_undist = right_undist[y:y + h, x:x + w]\n",
    "\n",
    "display(Image.fromarray(right_undist))"
   ]
  },
  {
   "cell_type": "code",
   "execution_count": null,
   "metadata": {},
   "outputs": [],
   "source": [
    "stereo = cv.StereoBM_create(numDisparities=16, blockSize=15)\n",
    "disparity = stereo.compute(left, right)\n",
    "\n",
    "plt.subplots(figsize=(20, 20))\n",
    "plt.imshow(disparity)"
   ]
  },
  {
   "cell_type": "code",
   "execution_count": null,
   "metadata": {},
   "outputs": [],
   "source": []
  }
 ],
 "metadata": {
  "kernelspec": {
   "display_name": "Python 3",
   "language": "python",
   "name": "python3"
  },
  "language_info": {
   "codemirror_mode": {
    "name": "ipython",
    "version": 3
   },
   "file_extension": ".py",
   "mimetype": "text/x-python",
   "name": "python",
   "nbconvert_exporter": "python",
   "pygments_lexer": "ipython3",
   "version": "3.7.6-final"
  }
 },
 "nbformat": 4,
 "nbformat_minor": 4
}