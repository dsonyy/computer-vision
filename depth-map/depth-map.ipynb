{
 "cells": [
  {
   "source": [
    "## Controlling webcam"
   ],
   "cell_type": "markdown",
   "metadata": {}
  },
  {
   "cell_type": "code",
   "execution_count": null,
   "metadata": {},
   "outputs": [],
   "source": [
    "import numpy as np\n",
    "import cv2 as cv\n",
    "from PIL import Image\n",
    "import ipywidgets\n",
    "from IPython.display import clear_output\n",
    "import os"
   ]
  },
  {
   "cell_type": "code",
   "execution_count": null,
   "metadata": {},
   "outputs": [],
   "source": [
    "from io import BytesIO\n",
    "import IPython.display\n",
    "import PIL.Image\n",
    "\n",
    "INTERFACE = \"usb\" # usb, csi\n",
    "\n",
    "def get_source(id, interface=INTERFACE):\n",
    "    if id == \"left\":\n",
    "        id = 0\n",
    "    elif id == \"right\":\n",
    "        id = 1\n",
    "\n",
    "    if interface == \"usb\":\n",
    "        return id\n",
    "    elif interface == \"csi\":\n",
    "        return (\n",
    "            \"nvarguscamerasrc sensor-id=%d sensor-mode=%d ! \"\n",
    "            \"video/x-raw(memory:NVMM), \"\n",
    "            \"width=(int)%d, height=(int)%d, \"\n",
    "            \"format=(string)NV12, framerate=(fraction)%d/1 ! \"\n",
    "            \"nvvidconv flip-method=%d ! \"\n",
    "            \"video/x-raw, width=(int)%d, height=(int)%d, format=(string)BGRx ! \"\n",
    "            \"videoconvert ! \"\n",
    "            \"video/x-raw, format=(string)BGR ! appsink\"\n",
    "            % (\n",
    "                id, # camera id\n",
    "                3, # mode\n",
    "                640, # width\n",
    "                480, # height\n",
    "                10, # frame rate\n",
    "                0, # flip method\n",
    "                640, # display width\n",
    "                480, # display height\n",
    "            )\n",
    "        )\n",
    "    else:\n",
    "        raise Exception(\"Unknown camera source.\")\n",
    "\n",
    "def camera_capture(id):\n",
    "    camera = cv.VideoCapture(get_source(id))\n",
    "    camera.set(cv.CAP_PROP_FRAME_WIDTH, 1280)\n",
    "    camera.set(cv.CAP_PROP_FRAME_HEIGHT, 1024)\n",
    "    ret, image = camera.read()\n",
    "\n",
    "    if not ret:\n",
    "        return None\n",
    "\n",
    "    image = cv.cvtColor(image, cv.COLOR_BGR2GRAY)\n",
    "    camera.release()\n",
    "    return image\n",
    "\n",
    "def camera_capture2():\n",
    "    left = cv.VideoCapture(get_source(\"left\"))\n",
    "    left.set(cv.CAP_PROP_FRAME_WIDTH, 1280)\n",
    "    left.set(cv.CAP_PROP_FRAME_HEIGHT, 1024)\n",
    "\n",
    "    right = cv.VideoCapture(get_source(\"right\"))\n",
    "    right.set(cv.CAP_PROP_FRAME_WIDTH, 1280)\n",
    "    right.set(cv.CAP_PROP_FRAME_HEIGHT, 1024)\n",
    "\n",
    "    if not (left.grab() and right.grab()):\n",
    "        return None\n",
    "\n",
    "    _, left_frame = left.retrieve()\n",
    "    _, right_frame = right.retrieve()\n",
    "\n",
    "    left_frame = cv.cvtColor(left_frame, cv.COLOR_BGR2GRAY)\n",
    "    right_frame = cv.cvtColor(right_frame, cv.COLOR_BGR2GRAY)\n",
    "\n",
    "    left.release()\n",
    "    right.release()\n",
    "    return np.hstack((left_frame, right_frame))\n",
    "\n",
    "def camera_stream(id):\n",
    "    camera = cv.VideoCapture(get_source(id))\n",
    "    camera.set(3, 1280)\n",
    "    camera.set(4, 1024)\n",
    "    try: \n",
    "        while True:\n",
    "            ret, frame = camera.read()\n",
    "            frame = cv.cvtColor(frame, cv.COLOR_BGR2GRAY)\n",
    "\n",
    "            frame = cv.rotate(frame, cv.ROTATE_90_COUNTERCLOCKWISE)\n",
    "\n",
    "            stream = BytesIO()\n",
    "            PIL.Image.fromarray(frame).save(stream, format=\"jpeg\")\n",
    "            IPython.display.display(IPython.display.Image(data=stream.getvalue()))\n",
    "\n",
    "            IPython.display.clear_output(wait=True)\n",
    "    except KeyboardInterrupt:\n",
    "        camera.release()\n",
    "        print(\"Stream Stopped\")\n",
    "        \n",
    "def camera_stream2():\n",
    "    camera0 = cv.VideoCapture(get_source(0))\n",
    "    camera0.set(cv.CAP_PROP_FRAME_WIDTH, 1280)\n",
    "    camera0.set(cv.CAP_PROP_FRAME_HEIGHT, 1024)\n",
    "\n",
    "    camera1 = cv.VideoCapture(get_source(1))\n",
    "    camera1.set(cv.CAP_PROP_FRAME_WIDTH, 1280)\n",
    "    camera1.set(cv.CAP_PROP_FRAME_HEIGHT, 1024)\n",
    "    try: \n",
    "        while True:\n",
    "            camera0.grab()\n",
    "            camera1.grab()\n",
    "\n",
    "            _, frame0 = camera0.retrieve()\n",
    "            _, frame1 = camera1.retrieve()\n",
    "\n",
    "            frame0 = cv.cvtColor(frame0, cv.COLOR_BGR2GRAY)\n",
    "            frame1 = cv.cvtColor(frame1, cv.COLOR_BGR2GRAY)\n",
    "            \n",
    "            frame = np.hstack((frame0, frame1))\n",
    "            \n",
    "            # frame = cv.flip(frame, 1)\n",
    "\n",
    "            stream = BytesIO()\n",
    "            PIL.Image.fromarray(frame).save(stream, format=\"jpeg\")\n",
    "    \n",
    "            IPython.display.display(IPython.display.Image(data=stream.getvalue()))\n",
    "            IPython.display.clear_output(wait=True)\n",
    "    except KeyboardInterrupt:\n",
    "        camera0.release()\n",
    "        camera1.release()\n",
    "        print(\"Stream Stopped\")"
   ]
  },
  {
   "cell_type": "code",
   "execution_count": null,
   "metadata": {
    "tags": []
   },
   "outputs": [],
   "source": [
    "camera_stream2()"
   ]
  },
  {
   "source": [
    "## Calibration"
   ],
   "cell_type": "markdown",
   "metadata": {}
  },
  {
   "source": [
    "### Collecting images"
   ],
   "cell_type": "markdown",
   "metadata": {}
  },
  {
   "cell_type": "code",
   "execution_count": null,
   "metadata": {},
   "outputs": [],
   "source": [
    "left = camera_capture(get_source(\"left\"))\n",
    "right = camera_capture(get_source(\"right\"))\n",
    "\n",
    "count = len(os.listdir(\"calibration/left\"))\n",
    "Image.fromarray(left).save(\"calibration/left/\" + str(count) + \".jpg\"))\n",
    "\n",
    "count = len(os.listdir(\"calibration/right\"))\n",
    "Image.fromarray(right).save(os.path.join(\"calibration/right/\" + str(count) + \".jpg\"))\n",
    "\n",
    "display(Image.fromarray(np.hstack((left, right))))"
   ]
  },
  {
   "source": [
    "### Loading images"
   ],
   "cell_type": "markdown",
   "metadata": {}
  },
  {
   "cell_type": "code",
   "execution_count": 112,
   "metadata": {
    "tags": []
   },
   "outputs": [
    {
     "output_type": "stream",
     "name": "stdout",
     "text": "Loaded 74 * 2 images.\n"
    }
   ],
   "source": [
    "left_images = []\n",
    "right_images = []\n",
    "\n",
    "for f in os.listdir(\"calibration/left\"):\n",
    "    image = cv.imread(\"calibration/left/\" + f)\n",
    "    image = cv.cvtColor(image, cv.COLOR_BGR2GRAY)\n",
    "    left_images.append(image)\n",
    "\n",
    "for f in os.listdir(\"calibration/right\"):\n",
    "    image = cv.imread(\"calibration/right/\" + f)\n",
    "    image = cv.cvtColor(image, cv.COLOR_BGR2GRAY)\n",
    "    right_images.append(image)\n",
    "\n",
    "if len(left_images) == len(right_images):\n",
    "    images_num = len(left_images)\n",
    "    print(\"Loaded\", images_num, \"* 2 images.\")\n",
    "else:\n",
    "    print(\"The number of right and left images are different!\")"
   ]
  },
  {
   "source": [
    "### Finding chessboard corners"
   ],
   "cell_type": "markdown",
   "metadata": {}
  },
  {
   "cell_type": "code",
   "execution_count": 121,
   "metadata": {
    "tags": []
   },
   "outputs": [
    {
     "output_type": "stream",
     "name": "stdout",
     "text": "Processing pair 0: OK, OK, \nProcessing pair 1: OK, OK, \nProcessing pair 2: OK, OK, \nProcessing pair 3: OK, OK, \nProcessing pair 4: OK, OK, \nProcessing pair 5: OK, OK, \nProcessing pair 6: OK, OK, \nProcessing pair 7: OK, OK, \nProcessing pair 8: OK, OK, \nProcessing pair 9: OK, OK, \nProcessing pair 10: OK, OK, \nProcessing pair 11: OK, OK, \nProcessing pair 12: OK, OK, \nProcessing pair 13: OK, OK, \nProcessing pair 14: OK, OK, \nProcessing pair 15: ERROR, ERROR, \nProcessing pair 16: OK, OK, \nProcessing pair 17: OK, OK, \nProcessing pair 18: OK, OK, \nProcessing pair 19: ERROR, ERROR, \nProcessing pair 20: OK, OK, \nProcessing pair 21: ERROR, OK, \nProcessing pair 22: OK, OK, \nProcessing pair 23: OK, OK, \nProcessing pair 24: OK, OK, \nProcessing pair 25: OK, OK, \nProcessing pair 26: OK, OK, \nProcessing pair 27: OK, OK, \nProcessing pair 28: OK, OK, \nProcessing pair 29: OK, OK, \nProcessing pair 30: OK, OK, \nProcessing pair 31: OK, OK, \nProcessing pair 32: ERROR, ERROR, \nProcessing pair 33: OK, OK, \nProcessing pair 34: ERROR, OK, \nProcessing pair 35: OK, OK, \nProcessing pair 36: ERROR, ERROR, \nProcessing pair 37: OK, OK, \nProcessing pair 38: OK, OK, \nProcessing pair 39: OK, OK, \nProcessing pair 40: OK, OK, \nProcessing pair 41: OK, OK, \nProcessing pair 42: OK, OK, \nProcessing pair 43: OK, OK, \nProcessing pair 44: OK, OK, \nProcessing pair 45: ERROR, ERROR, \nProcessing pair 46: OK, ERROR, \nProcessing pair 47: ERROR, ERROR, \nProcessing pair 48: OK, OK, \nProcessing pair 49: OK, OK, \nProcessing pair 50: ERROR, ERROR, \nProcessing pair 51: ERROR, ERROR, \nProcessing pair 52: OK, OK, \nProcessing pair 53: OK, OK, \nProcessing pair 54: OK, OK, \nProcessing pair 55: ERROR, ERROR, \nProcessing pair 56: OK, OK, \nProcessing pair 57: ERROR, ERROR, \nProcessing pair 58: OK, OK, \nProcessing pair 59: OK, OK, \nProcessing pair 60: OK, OK, \nProcessing pair 61: OK, OK, \nProcessing pair 62: OK, OK, \nProcessing pair 63: OK, ERROR, \nProcessing pair 64: OK, OK, \nProcessing pair 65: ERROR, ERROR, \nProcessing pair 66: ERROR, ERROR, \nProcessing pair 67: OK, OK, \nProcessing pair 68: OK, OK, \nProcessing pair 69: OK, OK, \nProcessing pair 70: ERROR, ERROR, \nProcessing pair 71: OK, ERROR, \nProcessing pair 72: OK, OK, \nProcessing pair 73: OK, OK, \n"
    }
   ],
   "source": [
    "obj_points = []\n",
    "left_image_points = []\n",
    "right_image_points = []\n",
    "\n",
    "for idx, (left_image, right_image) in enumerate(zip(left_images, right_images)):\n",
    "    print(\"Processing pair\", idx, end=\": \")\n",
    "    ret_left, corners_left = cv.findChessboardCorners(left_image, (7, 7), cv.CALIB_CB_FAST_CHECK)\n",
    "    ret_right, corners_right = cv.findChessboardCorners(right_image, (7, 7), cv.CALIB_CB_FAST_CHECK)\n",
    "\n",
    "    if not ret_left:\n",
    "        print(\"ERROR, \", end=\"\")\n",
    "        left_image_points.append(None)\n",
    "    else:\n",
    "        print(\"OK, \", end=\"\")\n",
    "        left_image_points.append(corners_left)\n",
    "\n",
    "    if not ret_right:\n",
    "        print(\"ERROR, \", end=\"\")\n",
    "        right_image_points.append(None)\n",
    "    else:\n",
    "        print(\"OK, \", end=\"\")\n",
    "        right_image_points.append(corners_right)\n",
    "     \n",
    "    obj = np.zeros((7 * 7, 3), np.float32)\n",
    "    obj[:, :2] = np.mgrid[0:7, 0:7].T.reshape(-1, 2)\n",
    "    obj_points.append(obj)\n",
    "    print(\"\")"
   ]
  },
  {
   "source": [
    "### Calculating distortions"
   ],
   "cell_type": "markdown",
   "metadata": {}
  },
  {
   "cell_type": "code",
   "execution_count": 131,
   "metadata": {
    "tags": []
   },
   "outputs": [
    {
     "output_type": "stream",
     "name": "stdout",
     "text": "Calibrating left camera...\n"
    },
    {
     "output_type": "error",
     "ename": "error",
     "evalue": "OpenCV(4.4.0) D:\\Build\\OpenCV\\opencv-4.4.0\\modules\\calib3d\\src\\calibration.cpp:3334: error: (-2:Unspecified error) in function 'void __cdecl cv::collectCalibrationData(const class cv::_InputArray &,const class cv::_InputArray &,const class cv::_InputArray &,int,class cv::Mat &,class cv::Mat &,class cv::Mat *,class cv::Mat &)'\n>  (expected: 'nimages == (int)imagePoints1.total()'), where\n>     'nimages' is 74\n> must be equal to\n>     '(int)imagePoints1.total()' is 59\n",
     "traceback": [
      "\u001b[1;31m---------------------------------------------------------------------------\u001b[0m",
      "\u001b[1;31merror\u001b[0m                                     Traceback (most recent call last)",
      "\u001b[1;32m<ipython-input-131-50bd79e1e8ec>\u001b[0m in \u001b[0;36m<module>\u001b[1;34m\u001b[0m\n\u001b[0;32m      1\u001b[0m \u001b[0mprint\u001b[0m\u001b[1;33m(\u001b[0m\u001b[1;34m\"Calibrating left camera...\"\u001b[0m\u001b[1;33m)\u001b[0m\u001b[1;33m\u001b[0m\u001b[1;33m\u001b[0m\u001b[0m\n\u001b[0;32m      2\u001b[0m \u001b[0mleft_image_points_notnone\u001b[0m \u001b[1;33m=\u001b[0m \u001b[1;33m[\u001b[0m\u001b[0mx\u001b[0m \u001b[1;32mfor\u001b[0m \u001b[0mx\u001b[0m \u001b[1;32min\u001b[0m \u001b[0mleft_image_points\u001b[0m \u001b[1;32mif\u001b[0m \u001b[0mx\u001b[0m \u001b[1;32mis\u001b[0m \u001b[1;32mnot\u001b[0m \u001b[1;32mNone\u001b[0m\u001b[1;33m]\u001b[0m\u001b[1;33m\u001b[0m\u001b[1;33m\u001b[0m\u001b[0m\n\u001b[1;32m----> 3\u001b[1;33m \u001b[0m_\u001b[0m\u001b[1;33m,\u001b[0m \u001b[0mleft_matrix\u001b[0m\u001b[1;33m,\u001b[0m \u001b[0mleft_distortion_coeff\u001b[0m\u001b[1;33m,\u001b[0m \u001b[0m_\u001b[0m\u001b[1;33m,\u001b[0m \u001b[0m_\u001b[0m \u001b[1;33m=\u001b[0m \u001b[0mcv\u001b[0m\u001b[1;33m.\u001b[0m\u001b[0mcalibrateCamera\u001b[0m\u001b[1;33m(\u001b[0m\u001b[0mobj_points\u001b[0m\u001b[1;33m,\u001b[0m \u001b[0mleft_image_points_notnone\u001b[0m\u001b[1;33m,\u001b[0m \u001b[1;33m(\u001b[0m\u001b[1;36m1024\u001b[0m\u001b[1;33m,\u001b[0m \u001b[1;36m1280\u001b[0m\u001b[1;33m)\u001b[0m\u001b[1;33m,\u001b[0m \u001b[1;32mNone\u001b[0m\u001b[1;33m,\u001b[0m \u001b[1;32mNone\u001b[0m\u001b[1;33m)\u001b[0m\u001b[1;33m\u001b[0m\u001b[1;33m\u001b[0m\u001b[0m\n\u001b[0m\u001b[0;32m      4\u001b[0m \u001b[1;33m\u001b[0m\u001b[0m\n\u001b[0;32m      5\u001b[0m \u001b[0mprint\u001b[0m\u001b[1;33m(\u001b[0m\u001b[1;34m\"Calibrating right camera...\"\u001b[0m\u001b[1;33m)\u001b[0m\u001b[1;33m\u001b[0m\u001b[1;33m\u001b[0m\u001b[0m\n",
      "\u001b[1;31merror\u001b[0m: OpenCV(4.4.0) D:\\Build\\OpenCV\\opencv-4.4.0\\modules\\calib3d\\src\\calibration.cpp:3334: error: (-2:Unspecified error) in function 'void __cdecl cv::collectCalibrationData(const class cv::_InputArray &,const class cv::_InputArray &,const class cv::_InputArray &,int,class cv::Mat &,class cv::Mat &,class cv::Mat *,class cv::Mat &)'\n>  (expected: 'nimages == (int)imagePoints1.total()'), where\n>     'nimages' is 74\n> must be equal to\n>     '(int)imagePoints1.total()' is 59\n"
     ]
    }
   ],
   "source": [
    "print(\"Calibrating left camera...\")\n",
    "left_image_points_notnone = [x for x in left_image_points if x is not None]\n",
    "_, left_matrix, left_distortion_coeff, _, _ = cv.calibrateCamera(obj_points, left_image_points_notnone, (1024, 1280), None, None)\n",
    "\n",
    "print(\"Calibrating right camera...\")\n",
    "_, right_matrix, right_distortion_coeff, _, _ = cv.calibrateCamera(obj_points, [x for x in right_image_points if x is not None], (1024, 1280), None, None)\n",
    "\n",
    "print(\"Calibrating cameras together...\")\n",
    "# new_camera_matrix, roi = cv.getOptimalNewCameraMatrix(matrix, distortion_coeff, (1024, 1280), 1, (1024, 1280))"
   ]
  },
  {
   "cell_type": "code",
   "execution_count": null,
   "metadata": {},
   "outputs": [],
   "source": [
    "for idx, image in enumerate(images):\n",
    "    image_undist = cv.undistort(image, matrix, distortion_coeff, None, new_camera_matrix)\n",
    "    Image.fromarray(image_undist).save(os.path.join(\"calibration-undistorted\", str(idx) + \".jpg\"))\n",
    "\n",
    "    x, y, w, h = roi\n",
    "    image_undist_roi = image_undist[y:y + h, x:x + w]\n",
    "    Image.fromarray(image_undist_roi).save(os.path.join(\"calibration-undistorted-roi\", str(idx) + \".jpg\"))"
   ]
  },
  {
   "source": [
    "### Calculating re-projection error"
   ],
   "cell_type": "markdown",
   "metadata": {}
  },
  {
   "cell_type": "code",
   "execution_count": null,
   "metadata": {
    "tags": []
   },
   "outputs": [],
   "source": [
    "mean_error = 0\n",
    "for i in range(len(obj_points)):\n",
    "    img_points2, _ = cv.projectPoints(obj_points[i], rotation_vec[i], translation_vec[i], matrix, distortion_coeff)\n",
    "    mean_error += cv.norm(img_points[i], img_points2, cv.NORM_L2) / len(img_points2)\n",
    "\n",
    "print(\"Total error:\", mean_error / len(obj_points))"
   ]
  },
  {
   "source": [
    "### Saving coefficients"
   ],
   "cell_type": "markdown",
   "metadata": {}
  },
  {
   "cell_type": "code",
   "execution_count": null,
   "metadata": {
    "tags": []
   },
   "outputs": [],
   "source": [
    "np.savez(\"logitech-500.npz\", \n",
    "    matrix=matrix,\n",
    "    distortion_coeff=distortion_coeff,\n",
    "    rotation_vec=rotation_vec,\n",
    "    translation_vec=translation_vec,\n",
    "    new_camera_matrix=new_camera_matrix,\n",
    "    roi=roi)\n",
    "\n",
    "coefficients = dict(np.load(\"logitech-500.npz\"))"
   ]
  },
  {
   "source": [
    "## Pose Estimation"
   ],
   "cell_type": "markdown",
   "metadata": {}
  },
  {
   "cell_type": "code",
   "execution_count": null,
   "metadata": {},
   "outputs": [],
   "source": [
    "coefficients = dict(np.load(\"logitech-500.npz\"))\n",
    "matrix, distortion_coeff = coefficients[\"matrix\"], coefficients[\"distortion_coeff\"]"
   ]
  },
  {
   "cell_type": "code",
   "execution_count": null,
   "metadata": {},
   "outputs": [],
   "source": [
    "def draw(img, corners, imgpts):\n",
    "    corner = tuple(corners[0].ravel())\n",
    "    img = cv.line(img, corner, tuple(imgpts[0].ravel()), (255,0,0), 5)\n",
    "    img = cv.line(img, corner, tuple(imgpts[1].ravel()), (0,255,0), 5)\n",
    "    img = cv.line(img, corner, tuple(imgpts[2].ravel()), (0,0,255), 5)\n",
    "    return img"
   ]
  },
  {
   "cell_type": "code",
   "execution_count": null,
   "metadata": {
    "tags": []
   },
   "outputs": [],
   "source": [
    "camera = cv.VideoCapture(get_source(0))\n",
    "camera.set(3, 640)\n",
    "camera.set(4, 480)\n",
    "try: \n",
    "    while True:\n",
    "        obj_points = []\n",
    "        img_points = []\n",
    "\n",
    "        ret, frame = camera.read()\n",
    "        frame = cv.cvtColor(frame, cv.COLOR_BGR2GRAY)\n",
    "        frame = cv.rotate(frame, cv.ROTATE_90_COUNTERCLOCKWISE)\n",
    "\n",
    "        ret, corners = cv.findChessboardCorners(frame, (7,7), None)\n",
    "        if ret:\n",
    "            obj = np.zeros((7 * 7, 3), np.float32)\n",
    "            obj[:, :2] = np.mgrid[0:7, 0:7].T.reshape(-1, 2)\n",
    "            obj_points.append(obj)\n",
    "            ret, rvecs, tvecs = cv.solvePnP(obj, corners, matrix, distortion_coeff)\n",
    "\n",
    "            axis = np.float32([[3,0,0], [0,3,0], [0,0,-3]]).reshape(-1,3)\n",
    "            img_points, jac = cv.projectPoints(axis, rvecs, tvecs, matrix, distortion_coeff)\n",
    "\n",
    "            frame = cv.cvtColor(frame, cv.COLOR_GRAY2RGB)\n",
    "            frame = draw(frame, corners, img_points)\n",
    "\n",
    "        stream = BytesIO()\n",
    "        PIL.Image.fromarray(frame).save(stream, format=\"jpeg\")\n",
    "        IPython.display.display(IPython.display.Image(data=stream.getvalue()))\n",
    "\n",
    "        IPython.display.clear_output(wait=True)\n",
    "except KeyboardInterrupt:\n",
    "    camera.release()\n",
    "    print(\"Stream Stopped\")"
   ]
  },
  {
   "source": [
    "## Depth map"
   ],
   "cell_type": "markdown",
   "metadata": {}
  },
  {
   "cell_type": "code",
   "execution_count": null,
   "metadata": {},
   "outputs": [],
   "source": [
    "import matplotlib.pyplot as plt"
   ]
  },
  {
   "cell_type": "code",
   "execution_count": null,
   "metadata": {},
   "outputs": [],
   "source": [
    "ID_LEFT = 0\n",
    "ID_RIGHT = 1\n",
    "\n",
    "# left, right = camera_capture(ID_LEFT), camera_capture(ID_RIGHT)\n",
    "left, right = cv.imread(\"left.jpg\"), cv.imread(\"right.jpg\")\n",
    "left, right = cv.cvtColor(left, cv.COLOR_BGR2GRAY), cv.cvtColor(right, cv.COLOR_BGR2GRAY)\n",
    "\n",
    "stereo = cv.StereoBM_create(numDisparities=16, blockSize=5)\n",
    "disparity = stereo.compute(left, right)\n",
    "\n",
    "plt.subplots(figsize=(20, 20))\n",
    "plt.imshow(disparity)"
   ]
  },
  {
   "cell_type": "code",
   "execution_count": null,
   "metadata": {},
   "outputs": [],
   "source": [
    "left = cv.rotate(camera_capture(0), cv.ROTATE_90_COUNTERCLOCKWISE)\n",
    "Image.fromarray(left).save(\"left.jpg\")\n",
    "display(Image.fromarray(left))"
   ]
  },
  {
   "cell_type": "code",
   "execution_count": null,
   "metadata": {},
   "outputs": [],
   "source": [
    "right = cv.rotate(camera_capture(0), cv.ROTATE_90_COUNTERCLOCKWISE)\n",
    "Image.fromarray(right).save(\"right.jpg\")\n",
    "display(Image.fromarray(right))"
   ]
  },
  {
   "cell_type": "code",
   "execution_count": null,
   "metadata": {},
   "outputs": [],
   "source": [
    "coefficients = dict(np.load(\"logitech-500.npz\"))\n",
    "matrix, distortion_coeff, new_camera_matrix = coefficients[\"matrix\"], coefficients[\"distortion_coeff\"], coefficients[\"new_camera_matrix\"]"
   ]
  },
  {
   "cell_type": "code",
   "execution_count": null,
   "metadata": {},
   "outputs": [],
   "source": [
    "left_undist = cv.undistort(left, matrix, distortion_coeff, None, new_camera_matrix)\n",
    "\n",
    "x, y, w, h = roi\n",
    "left_undist = left_undist[y:y + h, x:x + w]\n",
    "\n",
    "display(Image.fromarray(left_undist))"
   ]
  },
  {
   "cell_type": "code",
   "execution_count": null,
   "metadata": {},
   "outputs": [],
   "source": [
    "right_undist = cv.undistort(right, matrix, distortion_coeff, None, new_camera_matrix)\n",
    "\n",
    "x, y, w, h = roi\n",
    "right_undist = right_undist[y:y + h, x:x + w]\n",
    "\n",
    "display(Image.fromarray(right_undist))"
   ]
  },
  {
   "cell_type": "code",
   "execution_count": null,
   "metadata": {},
   "outputs": [],
   "source": [
    "stereo = cv.StereoBM_create(numDisparities=16, blockSize=15)\n",
    "disparity = stereo.compute(left, right)\n",
    "\n",
    "plt.subplots(figsize=(20, 20))\n",
    "plt.imshow(disparity)"
   ]
  },
  {
   "cell_type": "code",
   "execution_count": null,
   "metadata": {},
   "outputs": [],
   "source": []
  }
 ],
 "metadata": {
  "kernelspec": {
   "display_name": "Python 3",
   "language": "python",
   "name": "python3"
  },
  "language_info": {
   "codemirror_mode": {
    "name": "ipython",
    "version": 3
   },
   "file_extension": ".py",
   "mimetype": "text/x-python",
   "name": "python",
   "nbconvert_exporter": "python",
   "pygments_lexer": "ipython3",
   "version": "3.7.6-final"
  }
 },
 "nbformat": 4,
 "nbformat_minor": 4
}